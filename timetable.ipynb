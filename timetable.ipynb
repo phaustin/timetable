{
 "metadata": {
  "name": "",
  "signature": "sha256:ebb8aa090b44efe2c59a3d7d9d2ac87d00825c76fc2d8d07cf3526651d0c58f4"
 },
 "nbformat": 3,
 "nbformat_minor": 0,
 "worksheets": [
  {
   "cells": [
    {
     "cell_type": "code",
     "collapsed": false,
     "input": [
      "%qtconsole"
     ],
     "language": "python",
     "metadata": {},
     "outputs": [],
     "prompt_number": ""
    },
    {
     "cell_type": "code",
     "collapsed": false,
     "input": [],
     "language": "python",
     "metadata": {},
     "outputs": []
    }
   ],
   "metadata": {}
  }
 ]
}